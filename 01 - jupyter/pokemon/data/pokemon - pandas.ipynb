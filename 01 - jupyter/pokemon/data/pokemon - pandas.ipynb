{
 "cells": [
  {
   "cell_type": "code",
   "execution_count": 10,
   "metadata": {
    "scrolled": true
   },
   "outputs": [
    {
     "name": "stdout",
     "output_type": "stream",
     "text": [
      "    #\\tName\\tType 1\\tType 2\\tHP\\tAttack\\tDefense\\tSp. Atk\\tSp. Def\\tSpeed\\tGeneration\\tLegendary\n",
      "0    1\\tBulbasaur\\tGrass\\tPoison\\t45\\t49\\t49\\t65\\t6...                                          \n",
      "1    2\\tIvysaur\\tGrass\\tPoison\\t60\\t62\\t63\\t80\\t80\\...                                          \n",
      "2    3\\tVenusaur\\tGrass\\tPoison\\t80\\t82\\t83\\t100\\t1...                                          \n",
      "3    3\\tVenusaurMega Venusaur\\tGrass\\tPoison\\t80\\t1...                                          \n",
      "4    4\\tCharmander\\tFire\\t\\t39\\t52\\t43\\t60\\t50\\t65\\...                                          \n",
      "..                                                 ...                                          \n",
      "795  719\\tDiancie\\tRock\\tFairy\\t50\\t100\\t150\\t100\\t...                                          \n",
      "796  719\\tDiancieMega Diancie\\tRock\\tFairy\\t50\\t160...                                          \n",
      "797  720\\tHoopaHoopa Confined\\tPsychic\\tGhost\\t80\\t...                                          \n",
      "798  720\\tHoopaHoopa Unbound\\tPsychic\\tDark\\t80\\t16...                                          \n",
      "799  721\\tVolcanion\\tFire\\tWater\\t80\\t110\\t120\\t130...                                          \n",
      "\n",
      "[800 rows x 1 columns]\n"
     ]
    }
   ],
   "source": [
    "import pandas as pd\n",
    "\n",
    "# df = pd.read_csv('pandas-master/pokemon_data.csv')\n",
    "# print(df.head(3))\n",
    "\n",
    "df_txt = pd.read_csv('pandas-master/pokemon_data.txt')\n",
    "print(df_txt)"
   ]
  },
  {
   "cell_type": "code",
   "execution_count": null,
   "metadata": {},
   "outputs": [],
   "source": []
  }
 ],
 "metadata": {
  "kernelspec": {
   "display_name": "Python 3",
   "language": "python",
   "name": "python3"
  },
  "language_info": {
   "codemirror_mode": {
    "name": "ipython",
    "version": 3
   },
   "file_extension": ".py",
   "mimetype": "text/x-python",
   "name": "python",
   "nbconvert_exporter": "python",
   "pygments_lexer": "ipython3",
   "version": "3.8.5"
  }
 },
 "nbformat": 4,
 "nbformat_minor": 4
}
